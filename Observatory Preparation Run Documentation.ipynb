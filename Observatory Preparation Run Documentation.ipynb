{
 "cells": [
  {
   "cell_type": "markdown",
   "id": "24b95ac2",
   "metadata": {},
   "source": [
    "# Observing Run Preparation\n",
    "\n",
    "## PROGRAM\n",
    "**Observation Run Preparation**\n",
    "<br>\n",
    "## AUTHOR\n",
    "**Aaron Philip, Saket Kulkarni, Vinit Hardikar, Gaurang Potdar**\n",
    "<br>\n",
    "## PURPOSE\n",
    "**The purpose of Observing Run Preparation is to maximise the use of the time alloted to us for observing these celestial bodies in the most effective way.**\n",
    "\n",
    "## FUNCTION\n",
    "**Getting a detailed list of all possible parameters required to be in place before the observation of the celestial body has begun**\n",
    "\n",
    "**OUTPUT :** "
   ]
  },
  {
   "cell_type": "code",
   "execution_count": null,
   "id": "81d5f81f",
   "metadata": {},
   "outputs": [],
   "source": []
  }
 ],
 "metadata": {
  "kernelspec": {
   "display_name": "Python 3 (ipykernel)",
   "language": "python",
   "name": "python3"
  },
  "language_info": {
   "codemirror_mode": {
    "name": "ipython",
    "version": 3
   },
   "file_extension": ".py",
   "mimetype": "text/x-python",
   "name": "python",
   "nbconvert_exporter": "python",
   "pygments_lexer": "ipython3",
   "version": "3.9.7"
  }
 },
 "nbformat": 4,
 "nbformat_minor": 5
}
