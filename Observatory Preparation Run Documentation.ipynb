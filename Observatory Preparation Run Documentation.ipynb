{
 "cells": [
  {
   "cell_type": "markdown",
   "id": "24b95ac2",
   "metadata": {},
   "source": [
    "# Observing Run Preparation\n",
    "\n",
    "\n",
    "## PROGRAM :\n",
    ">Observation Run Preparation\n",
    "## AUTHOR :\n",
    ">Aaron Philip, Saket Kulkarni, Vinit Hardikar, Gaurang Potdar, Krishnaraj Thadesar\n",
    "## PURPOSE :\n",
    ">The purpose of Observing Run Preparation is to maximise the use of the time alloted to us for observing these celestial bodies in the most effective way.\n",
    "## OUTPUT :\n",
    ">A spreadsheet with the details of the Target, RA, DEC, Rise Time, Transit,Set Time  and Observability of a celestial body\n",
    "\n",
    "\n",
    "## Functions :\n",
    "\n",
    "> **FUNCTION:** `time_in_india()`<br>\n",
    "  **ARGUMENTS:** None <br>\n",
    "  **RETURNS:** Curent Time in the Indian Standard Time (IST) <br>\n",
    "  **NOTES:** Returns the current TIme of the day using the astropy.time <br>\n",
    "\n",
    "> **FUNCTION:** `observatory_setup()`<br>\n",
    "  **ARGUMENTS:** None <br>\n",
    "  **RETURNS:** Observatory Location based on the different parameters such as location, timezone, longitude, latitude and elevation <br>\n",
    "  **NOTES:** Uses the EarthLocation that takes in longitude, latitude and elevation and we finally set a variable called `ioMIT` as the Observer\n"
   ]
  }
 ],
 "metadata": {
  "kernelspec": {
   "display_name": "Python 3 (ipykernel)",
   "language": "python",
   "name": "python3"
  },
  "language_info": {
   "codemirror_mode": {
    "name": "ipython",
    "version": 3
   },
   "file_extension": ".py",
   "mimetype": "text/x-python",
   "name": "python",
   "nbconvert_exporter": "python",
   "pygments_lexer": "ipython3",
   "version": "3.9.7"
  }
 },
 "nbformat": 4,
 "nbformat_minor": 5
}
